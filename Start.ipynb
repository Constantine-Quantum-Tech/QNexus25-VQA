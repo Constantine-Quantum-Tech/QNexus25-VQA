{
 "cells": [
  {
   "cell_type": "markdown",
   "metadata": {},
   "source": [
    "### **Table Of Contents**\n",
    "\n",
    "0. **Introduction to Variational Quantum Algorithms:**\n",
    "    - Overview of Workshop Goals.  \n",
    "    - Why VQE?  \n",
    "    - Agenda and Expectations.  \n",
    "\n",
    "1. **[Parametrizing a Quantum Circuit](./notebooks/Ansatz.ipynb):**  \n",
    "    - What is a Parametrized (or \"ansatz\") Circuit?  \n",
    "    - How to Build a Parametrized Circuit in Qiskit.  \n",
    "\n",
    "2. **[Measuring Expectation Values](./notebooks/Measurements.ipynb):**  \n",
    "    - What is an Expectation Value?  \n",
    "    - How to Measure Expectation Values on a Quantum Computer.  \n",
    "\n",
    "3. **[The Variational Quantum Eigensolver (VQE)](./notebooks/Toy_vqe.ipynb):**  \n",
    "    - VQE Recipe.  \n",
    "    - Toy Model VQE.  \n",
    "\n",
    "4. **VQE for Quantum Chemistry:**  \n",
    "    - [VQE for H₂ Molecule](./notebooks/h2_vqe.ipynb).  \n",
    "    - [VQE for BeH₂ Molecule](./notebooks/beh2_vqe.ipynb).  \n",
    "\n",
    "5. **[Running Your Circuits on a Quantum Computer](./notebooks/QPU.ipynb):**  \n",
    "    - Connecting to an IBM Quantum Computer.  \n",
    "    - Optimizing and Executing Circuits on Real Quantum Hardware.  "
   ]
  },
  {
   "cell_type": "markdown",
   "metadata": {},
   "source": []
  }
 ],
 "metadata": {
  "language_info": {
   "name": "python"
  }
 },
 "nbformat": 4,
 "nbformat_minor": 2
}
