{
 "cells": [
  {
   "cell_type": "markdown",
   "metadata": {},
   "source": [
    "# Running Your Code on a Quantum Computer\n",
    "\n",
    "This notebook demonstrates how to run a quantum circuit on an IBM Quantum computer using Qiskit Runtime.\n"
   ]
  },
  {
   "cell_type": "markdown",
   "metadata": {},
   "source": [
    "## Setting Up Qiskit Runtime\n",
    "\n",
    "First, we authenticate using an IBM Quantum token to access real quantum hardware. \n",
    "Make sure to replace `<my_ibm_quantum_token>` with your actual token or use `getpass.getpass()` to avoid exposing it in the notebook.\n"
   ]
  },
  {
   "cell_type": "code",
   "execution_count": 1,
   "metadata": {},
   "outputs": [],
   "source": [
    "from qiskit_ibm_runtime import QiskitRuntimeService\n",
    " \n",
    "\n",
    "my_token=\"<my_ibm_quantum_token>\"\n",
    "service = QiskitRuntimeService(channel=\"ibm_quantum\", token=my_token)"
   ]
  },
  {
   "cell_type": "markdown",
   "metadata": {},
   "source": [
    "## Listing Available Backends\n",
    "\n",
    "We fetch the list of available quantum computers (backends) to see which ones are online and operational.\n"
   ]
  },
  {
   "cell_type": "code",
   "execution_count": null,
   "metadata": {},
   "outputs": [],
   "source": [
    "service.backends()"
   ]
  },
  {
   "cell_type": "markdown",
   "metadata": {},
   "source": [
    "## Creating and Running a Quantum Circuit\n",
    "\n",
    "We construct a simple quantum circuit with two qubits:\n",
    "- Apply a **Hadamard (H) gate** on qubit 0.\n",
    "- Apply a **CNOT (CX) gate** to entangle qubit 0 with qubit 1.\n",
    "- Add **measurements** to both qubits.\n",
    "\n",
    "This circuit creates a **Bell state**, which is a fundamental entangled state in quantum computing.\n"
   ]
  },
  {
   "cell_type": "code",
   "execution_count": null,
   "metadata": {},
   "outputs": [],
   "source": [
    "from qiskit import QuantumCircuit\n",
    "from qiskit_ibm_runtime import  SamplerV2 as Sampler\n",
    "from qiskit.transpiler.preset_passmanagers import generate_preset_pass_manager\n",
    "# Create empty circuit\n",
    "example_circuit = QuantumCircuit(2)\n",
    "example_circuit.h(0)\n",
    "example_circuit.cx(0, 1)\n",
    "\n",
    "example_circuit.measure_all()\n",
    "example_circuit.draw('mpl')\n"
   ]
  },
  {
   "cell_type": "markdown",
   "metadata": {},
   "source": [
    "## Selecting a Quantum Backend\n",
    "\n",
    "We choose the least busy available quantum computer to run our circuit efficiently.\n"
   ]
  },
  {
   "cell_type": "code",
   "execution_count": null,
   "metadata": {},
   "outputs": [],
   "source": [
    "# You'll need to specify the credentials when initializing QiskitRuntimeService, if they were not previously saved.\n",
    "backend = service.least_busy(simulator=False, operational=True)\n",
    "# backend = service.backend('ibm_kyiv')"
   ]
  },
  {
   "cell_type": "markdown",
   "metadata": {},
   "source": [
    "## Optimizing the Circuit for Execution\n",
    "\n",
    "Before sending the circuit to the quantum computer, we optimize it using Qiskit's preset pass manager, ensuring it runs efficiently on the selected backend.\n"
   ]
  },
  {
   "cell_type": "code",
   "execution_count": null,
   "metadata": {},
   "outputs": [],
   "source": [
    "# Convert to an ISA circuit and layout-mapped observables.\n",
    "pm = generate_preset_pass_manager(backend=backend, optimization_level=0)\n",
    "isa_circuit = pm.run(example_circuit)\n",
    " \n",
    "isa_circuit.draw(\"mpl\", idle_wires=False)"
   ]
  },
  {
   "cell_type": "markdown",
   "metadata": {},
   "source": [
    "## Running the Circuit on IBM Quantum\n",
    "\n",
    "We execute the circuit using Qiskit Runtime's `Sampler` and specify 3000 shots (repetitions) to collect measurement statistics.\n"
   ]
  },
  {
   "cell_type": "code",
   "execution_count": null,
   "metadata": {},
   "outputs": [],
   "source": [
    "sampler = Sampler(backend)\n",
    "job = sampler.run([isa_circuit], shots=3000)\n",
    "print(f\"job id: {job.job_id()}\")\n"
   ]
  },
  {
   "cell_type": "markdown",
   "metadata": {},
   "source": [
    "## Checking Job Status and Retrieving Results\n",
    "\n",
    "Once the job is submitted, we check its status (e.g., `QUEUED`, `RUNNING`, `DONE`) and retrieve the final results.\n"
   ]
  },
  {
   "cell_type": "code",
   "execution_count": null,
   "metadata": {},
   "outputs": [],
   "source": [
    "job.status()"
   ]
  },
  {
   "cell_type": "code",
   "execution_count": null,
   "metadata": {},
   "outputs": [],
   "source": [
    "result = job.result()\n",
    "print(result)"
   ]
  }
 ],
 "metadata": {
  "kernelspec": {
   "display_name": "cqtr",
   "language": "python",
   "name": "python3"
  },
  "language_info": {
   "codemirror_mode": {
    "name": "ipython",
    "version": 3
   },
   "file_extension": ".py",
   "mimetype": "text/x-python",
   "name": "python",
   "nbconvert_exporter": "python",
   "pygments_lexer": "ipython3",
   "version": "3.12.7"
  }
 },
 "nbformat": 4,
 "nbformat_minor": 2
}
