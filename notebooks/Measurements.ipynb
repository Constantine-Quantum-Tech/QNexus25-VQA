{
 "cells": [
  {
   "cell_type": "markdown",
   "metadata": {},
   "source": [
    "# Measuring Expectation Values in Quantum Circuits\n",
    "\n",
    "In quantum computing, measurements are typically performed in the **computational basis** (i.e., the $Z$ basis). When we measure a quantum state, the outcome is a **bitstring** that represents the state of each qubit. For example, for a single qubit, the two possible outcomes are:\n",
    "- `\"0\"` corresponding to the state $|0\\rangle$\n",
    "- `\"1\"` corresponding to the state $|1\\rangle$\n",
    "\n",
    "## Expectation Value Calculation\n",
    "\n",
    "The **expectation value** of an observable is computed as the weighted sum of its eigenvalues, where the weights are the probabilities of obtaining each measurement outcome. Consider the single-qubit $Z$ operator, whose matrix representation is:\n",
    "\n",
    "$$\n",
    "Z = \\begin{pmatrix} 1 & 0 \\\\ 0 & -1 \\end{pmatrix} = |0\\rangle\\langle 0| - |1\\rangle\\langle 1|\n",
    "$$\n",
    "\n",
    "For a state $|\\psi\\rangle$, the expectation value is given by\n",
    "\n",
    "$$\n",
    "\\langle \\psi| Z |\\psi\\rangle =  \\langle \\psi|0\\rangle \\langle 0| \\psi\\rangle - \\langle \\psi|1\\rangle \\langle 1| \\psi\\rangle =\n",
    "\\text{Prob}(0) \\times 1 + \\text{Prob}(1) \\times (-1) = \\text{Prob}(0) - \\text{Prob}(1)\n",
    "$$\n",
    "\n",
    "where $\\text{Prob}(0) = \\langle \\psi| 0 \\rangle^2$ and $\\text{Prob}(1) = \\langle \\psi| 1 \\rangle^2$.\n",
    "\n",
    "## Bitstring Measurements\n",
    "\n",
    "After executing a quantum circuit, measurement outcomes are returned as bitstrings. For instance, in a 2-qubit system you might observe bitstrings like `\"00\"`, `\"01\"`, `\"10\"`, and `\"11\"`. Each bit corresponds to the measurement of one qubit. The probability of each bitstring is determined by the number of times it appears (the counts) divided by the total number of measurements.\n",
    "\n",
    "These probabilities are used to calculate the expectation value by taking the dot product with a vector of eigenvalues corresponding to the observable. For example, for a single qubit:\n",
    "\n",
    "$$\n",
    "\\langle \\psi| Z |\\psi\\rangle = P(0) - P(1)\n",
    "$$\n",
    "\n",
    "where $P(0)$ and $P(1)$ are the probabilities of measuring `\"0\"` and `\"1\"`, respectively.\n"
   ]
  },
  {
   "cell_type": "code",
   "execution_count": 1,
   "metadata": {},
   "outputs": [],
   "source": [
    "import numpy as np\n",
    "I = np.array([[1, 0], [0, 1]])\n",
    "X = np.array([[0, 1], [1, 0]])\n",
    "Y = np.array([[0, -1j], [1j, 0]])\n",
    "Z = np.array([[1, 0], [0, -1]])\n",
    "H = np.array([[1, 1], [1, -1]]) / np.sqrt(2)\n",
    "S = np.array([[1, 0], [0, np.cos(np.pi/2) + 1j * np.sin(np.pi/2)]])"
   ]
  },
  {
   "cell_type": "code",
   "execution_count": 2,
   "metadata": {},
   "outputs": [],
   "source": [
    "import sys\n",
    "import os\n",
    "# Add the project root directory to sys.path\n",
    "sys.path.append(os.path.abspath(os.path.join(os.getcwd(), \"..\")))"
   ]
  },
  {
   "cell_type": "code",
   "execution_count": 3,
   "metadata": {},
   "outputs": [
    {
     "data": {
      "text/latex": [
       "$\\displaystyle \n",
       "\\left(\n",
       "   \\begin{array}{rr}\n",
       "      1 & 0 \\\\ \n",
       "      0 & -1 \\\\ \n",
       "   \\end{array}\n",
       "\\right)\n",
       "$"
      ],
      "text/plain": [
       "<IPython.core.display.Math object>"
      ]
     },
     "metadata": {},
     "output_type": "display_data"
    },
    {
     "data": {
      "text/latex": [
       "$\\displaystyle \n",
       "\\left(\n",
       "   \\begin{array}{rr}\n",
       "      0.71 & 0.71 \\\\ \n",
       "      0.71 & -0.71 \\\\ \n",
       "   \\end{array}\n",
       "\\right)\n",
       "$"
      ],
      "text/plain": [
       "<IPython.core.display.Math object>"
      ]
     },
     "metadata": {},
     "output_type": "display_data"
    },
    {
     "data": {
      "text/latex": [
       "$\\displaystyle \n",
       "\\left(\n",
       "   \\begin{array}{rr}\n",
       "      (1+0j) & 0j \\\\ \n",
       "      0j & 1j \\\\ \n",
       "   \\end{array}\n",
       "\\right)\n",
       "$"
      ],
      "text/plain": [
       "<IPython.core.display.Math object>"
      ]
     },
     "metadata": {},
     "output_type": "display_data"
    },
    {
     "data": {
      "text/latex": [
       "$\\displaystyle \n",
       "\\left(\n",
       "   \\begin{array}{rr}\n",
       "      1 & 0 \\\\ \n",
       "      0 & 1 \\\\ \n",
       "   \\end{array}\n",
       "\\right)\n",
       "$"
      ],
      "text/plain": [
       "<IPython.core.display.Math object>"
      ]
     },
     "metadata": {},
     "output_type": "display_data"
    },
    {
     "data": {
      "text/latex": [
       "$\\displaystyle \n",
       "\\left(\n",
       "   \\begin{array}{rr}\n",
       "      0 & 1 \\\\ \n",
       "      1 & 0 \\\\ \n",
       "   \\end{array}\n",
       "\\right)\n",
       "$"
      ],
      "text/plain": [
       "<IPython.core.display.Math object>"
      ]
     },
     "metadata": {},
     "output_type": "display_data"
    },
    {
     "data": {
      "text/latex": [
       "$\\displaystyle \n",
       "\\left(\n",
       "   \\begin{array}{rr}\n",
       "      0j & (-0-1j) \\\\ \n",
       "      1j & 0j \\\\ \n",
       "   \\end{array}\n",
       "\\right)\n",
       "$"
      ],
      "text/plain": [
       "<IPython.core.display.Math object>"
      ]
     },
     "metadata": {},
     "output_type": "display_data"
    }
   ],
   "source": [
    "from utils import display_matrix\n",
    "display_matrix(Z)\n",
    "display_matrix(H)\n",
    "display_matrix(S)\n",
    "display_matrix(I)\n",
    "display_matrix(X)\n",
    "display_matrix(Y)"
   ]
  },
  {
   "cell_type": "markdown",
   "metadata": {},
   "source": [
    "## Task 1: Measuring in the Computational Basis\n",
    "\n",
    "In this task, you will complete the code to measure the expectation value of the observable \\(Z\\) for a given quantum state. Follow these steps:\n",
    "\n",
    "1. **Prepare the quantum state:** Build a simple circuit (for example, using a Hadamard gate to create a superposition).\n",
    "2. **Measure in the computational basis:** Add measurement operations to the circuit.\n",
    "3. **Convert the counts to probabilities:** Calculate the probability of each outcome.\n",
    "4. **Compute the expectation value:** Use the eigenvalue vector for $Z$ (i.e., $[1, -1]$ for a single qubit) and compute the dot product with the probability vector.\n",
    "\n",
    "*Hint:* For a single qubit, if you have probabilities $P(0)$ and $P(1)$, then:\n",
    "$$\n",
    "\\langle Z \\rangle = P(0) - P(1)\n",
    "$$"
   ]
  },
  {
   "cell_type": "code",
   "execution_count": 4,
   "metadata": {},
   "outputs": [
    {
     "name": "stdout",
     "output_type": "stream",
     "text": [
      "Measurement counts: {'0': 50096, '1': 49904}\n",
      "Probabilities: {'0': 0.50096, '1': 0.49904}\n",
      "Expectation value of Z: 0.002\n"
     ]
    }
   ],
   "source": [
    "\n",
    "# Task 1: Measuring in the Computational Basis\n",
    "\n",
    "from qiskit import QuantumCircuit\n",
    "import numpy as np\n",
    "from qiskit_aer.primitives import  SamplerV2\n",
    "\n",
    "# 1. Prepare a quantum circuit for a single qubit state.\n",
    "qc = QuantumCircuit(1)\n",
    "\n",
    "\n",
    "# (Optional) Prepare a non-trivial state; here, we use a Hadamard gate.\n",
    "# qc.h(0)\n",
    "\n",
    "##################################################################################################\n",
    "# PREPARE DIFFERENT STATES AND MEASURE IN THE COMPUTATIONAL BASIS\n",
    "\n",
    "\n",
    "\n",
    "################################################################################################\n",
    "\n",
    "# 2. Add measurement in the computational (Z) basis.\n",
    "qc.measure_all()\n",
    "\n",
    "# 3. Execute the circuit on a simulator.\n",
    "\n",
    "sampler = SamplerV2(default_shots=100000)\n",
    "sampler_job = sampler.run([(qc)])\n",
    "counts = sampler_job.result()[0].data.meas.get_counts()\n",
    "shots = sampler_job.result()[0].data.meas.num_shots\n",
    "\n",
    "\n",
    "print(\"Measurement counts:\", counts)\n",
    "\n",
    "# 4. Convert counts to probabilities.\n",
    "shots = sum(counts.values())\n",
    "probabilities = {state: count/shots for state, count in counts.items()}\n",
    "print(\"Probabilities:\", probabilities)\n",
    "\n",
    "# 5. Compute the expectation value of Z.\n",
    "# For a single qubit, we map '0' to eigenvalue +1 and '1' to eigenvalue -1.\n",
    "\n",
    "\n",
    "# Complete the code below to compute <Z> = P(0) - P(1)\n",
    "\n",
    "exp_val_z = probabilities.get('0', 0) - probabilities.get('1', 0)\n",
    "\n",
    "print(\"Expectation value of Z:\", np.round(exp_val_z,3))\n"
   ]
  },
  {
   "cell_type": "markdown",
   "metadata": {},
   "source": [
    "\n",
    "## Basis Rotations for Non-Diagonal Observables\n",
    "\n",
    "Observables such as $X$ and $Y$ are not diagonal in the computational basis. To measure these, we apply a basis rotation to the **state** (not the observable) so that the eigenstates of the observable align with the computational basis. For example:\n",
    "\n",
    "- **Measuring $X$:**\n",
    "\n",
    "  To measure $X$, we rotate the state by applying the Hadamard gate $H$. Then, the expectation value is computed as\n",
    "\n",
    "  $$\n",
    "  \\langle \\psi| X |\\psi\\rangle = \\langle \\psi| H Z H |\\psi\\rangle = \\langle \\phi| Z |\\phi\\rangle\n",
    "  $$\n",
    "  So Measuring $ \\langle X \\rangle$ in the state $|\\psi\\rangle$ is equivalent to measuring $\\langle Z \\rangle$ in the state $| \\phi \\rangle = H|\\psi\\rangle$.\n",
    "- **Measuring $Y$:**\n",
    "\n",
    "  To measure $Y$, we rotate the state by applying $S^{\\dagger}$ followed by $H$. Then, the expectation value is computed as\n",
    "\n",
    "  $$\n",
    "  \\langle \\psi| Y |\\psi\\rangle = \\langle \\psi| S H Z H S^\\dagger |\\psi\\rangle = \\langle \\Phi| Z |\\Phi\\rangle\n",
    "  $$\n",
    "  So Measuring $ \\langle Y \\rangle$ in the state $|\\psi\\rangle$ is equivalent to measuring $\\langle Z \\rangle$ in the state $| \\Phi \\rangle = H S^\\dagger |\\psi\\rangle$.\n",
    "\n",
    "After these rotations, a measurement in the computational basis (the $Z$ basis) yields the expectation value of the desired observable.\n",
    "\n"
   ]
  },
  {
   "cell_type": "markdown",
   "metadata": {},
   "source": [
    "## Task 2: Measuring with Basis Rotations\n",
    "\n",
    "In this task, you will measure the expectation value of a non-diagonal Pauli operator (like \\(X\\) or \\(Y\\)). Since these operators are not diagonal in the computational basis, you must apply an appropriate rotation before measurement.\n",
    "\n",
    "The steps are:\n",
    "\n",
    "1. **Prepare the quantum state:** Build a circuit that prepares the state.\n",
    "2. **Apply the rotation to the measurement basis:**  \n",
    "   - For $X$: Apply a Hadamard gate, since $X = H Z H$.  \n",
    "   - For $Y$: Apply $S^\\dagger$ followed by a Hadamard gate, since $Y = S H Z H S^\\dagger$.\n",
    "3. **Measure in the computational basis.**\n",
    "4. **Convert the counts to probabilities.**\n",
    "5. **Compute the expectation value:** Again, use the eigenvalue vector for $Z$.\n",
    "\n",
    "*Hint:* Write a helper function `rotate_for_measurement(qc, pauli)` that applies the appropriate rotation to the circuit `qc` for a given Pauli operator.\n",
    "\n"
   ]
  },
  {
   "cell_type": "code",
   "execution_count": 5,
   "metadata": {},
   "outputs": [
    {
     "data": {
      "image/png": "[encoded data removed]",
      "text/plain": [
       "<Figure size 580.387x200.667 with 1 Axes>"
      ]
     },
     "metadata": {},
     "output_type": "display_data"
    },
    {
     "name": "stdout",
     "output_type": "stream",
     "text": [
      "Measurement counts (after rotation): {'0': 100000}\n",
      "Probabilities (after rotation): {'0': 1.0}\n",
      "Expectation value of X: 1.0\n"
     ]
    }
   ],
   "source": [
    "# Task 2: Measuring with Basis Rotations\n",
    "from qiskit import QuantumCircuit\n",
    "import numpy as np\n",
    "from qiskit_aer.primitives import  SamplerV2\n",
    "\n",
    "def rotate_for_measurement(qc, pauli):\n",
    "    \"\"\"\n",
    "    Apply the necessary rotations so that measuring in the Z basis\n",
    "    yields the expectation value for the desired Pauli operator.\n",
    "    \n",
    "    Args:\n",
    "        qc (QuantumCircuit): The quantum circuit to modify.\n",
    "        pauli (str): The Pauli operator to measure ('X', 'Y', or 'Z').\n",
    "    \n",
    "    Returns:\n",
    "        QuantumCircuit: The modified circuit with rotation gates applied.\n",
    "    \"\"\"\n",
    "    if pauli == 'X':\n",
    "        # For X, apply a Hadamard gate: X = H Z H.\n",
    "        qc.h(0)\n",
    "    elif pauli == 'Y':\n",
    "        # For Y, apply S† then H : Y = S H Z H S† .\n",
    "        qc.sdg(0)\n",
    "        qc.h(0)\n",
    "\n",
    "        \n",
    "    # For Z, no rotation is necessary.\n",
    "    return qc\n",
    "\n",
    "# 1. Prepare a quantum circuit for a single qubit state.\n",
    "qc_rot = QuantumCircuit(1)\n",
    "# (Optional) Prepare a non-trivial state; here, we use a Hadamard gate.\n",
    "qc_rot.h(0)\n",
    "\n",
    "qc_rot.barrier()\n",
    "# 2. Specify which Pauli operator you want to measure (choose 'X' or 'Y').\n",
    "####################################################################\n",
    "\n",
    "pauli_operator = 'X'  # Change to 'Y' if desired\n",
    "\n",
    "\n",
    "\n",
    "####################################################################\n",
    "# 3. Apply the rotation for the desired measurement.\n",
    "qc_rot = rotate_for_measurement(qc_rot, pauli_operator)\n",
    "\n",
    "# 4. Add measurement in the computational (Z) basis.\n",
    "qc_rot.measure_all()\n",
    "display(qc_rot.draw('mpl'))\n",
    "# 5. Execute the circuit on a simulator.\n",
    "\n",
    "sampler = SamplerV2(default_shots=100000)\n",
    "sampler_job = sampler.run([(qc_rot)])\n",
    "counts_rot = sampler_job.result()[0].data.meas.get_counts()\n",
    "shots_rot = sampler_job.result()[0].data.meas.num_shots\n",
    "\n",
    "print(\"Measurement counts (after rotation):\", counts_rot)\n",
    "\n",
    "# 6. Convert counts to probabilities.\n",
    "shots_rot = sum(counts_rot.values())\n",
    "probabilities_rot = {state: count/shots_rot for state, count in counts_rot.items()}\n",
    "print(\"Probabilities (after rotation):\", probabilities_rot)\n",
    "\n",
    "# 7. Compute the expectation value for the measured operator.\n",
    "# We use the same eigenvalue mapping as for Z: '0' -> +1, '1' -> -1.\n",
    "exp_val_pauli = probabilities_rot.get('0', 0) - probabilities_rot.get('1', 0)\n",
    "\n",
    "print(f\"Expectation value of {pauli_operator}:\", exp_val_pauli)\n"
   ]
  },
  {
   "cell_type": "markdown",
   "metadata": {},
   "source": [
    "## Measuring in Practice\n",
    "\n",
    "In practice, there are multiple optimizations like Pauli Grouping, where we group commuting Pauli operators and measure them together. This reduces the number of circuits needed to measure all observables. However, the basic idea remains the same: rotate the state to align the observable with the computational basis, measure, and then rotate back.\n",
    "\n",
    "`qiskit` has a built-in class called `EstimatorV2` that is used exactly to estimate expectation values of observables. You can use this class to measure expectation values of observables without any intervention.\n",
    "\n",
    "---\n",
    "Let's measure the expectation value of\n",
    "$$H = 1 \\times IZZ  -1.7 \\times XZI + 1.02 \\times IXX -0.3 \\times YII + 0.5 \\times IIZ,$$\n",
    "\n",
    "with respect to a random 3-qubit state."
   ]
  },
  {
   "cell_type": "code",
   "execution_count": 6,
   "metadata": {},
   "outputs": [],
   "source": [
    "import qiskit\n",
    "import qiskit_aer\n",
    "from qiskit.quantum_info import SparsePauliOp\n",
    "from qiskit.circuit.library import RealAmplitudes\n",
    "\n",
    "from qiskit_aer.primitives import EstimatorV2\n",
    "\n",
    "import numpy as np\n",
    "from functools import reduce\n"
   ]
  },
  {
   "cell_type": "code",
   "execution_count": 7,
   "metadata": {},
   "outputs": [],
   "source": [
    "\n",
    "observables = SparsePauliOp.from_list([\n",
    "    ('IZZ', 1), ('XZI', -1.7), ('IXX', 1.02), ('YII', -0.3), ('IIZ', 0.5)\n",
    "])"
   ]
  },
  {
   "cell_type": "code",
   "execution_count": 8,
   "metadata": {},
   "outputs": [],
   "source": [
    "state = RealAmplitudes(3).decompose()  # Using decompose() as a crude transpilation\n",
    "params = np.array(\n",
    "    [0.6, 0.5, 0.1, 0.9, 0.6, 0.9,\n",
    "     0.5, 0.1, 0.0, 0.7, 0.1, 0.4]\n",
    ")"
   ]
  },
  {
   "cell_type": "code",
   "execution_count": 9,
   "metadata": {},
   "outputs": [
    {
     "data": {
      "image/png": "[encoded data removed]",
      "text/plain": [
       "<Figure size 956.385x284.278 with 1 Axes>"
      ]
     },
     "execution_count": 9,
     "metadata": {},
     "output_type": "execute_result"
    }
   ],
   "source": [
    "state.draw('mpl')"
   ]
  },
  {
   "cell_type": "code",
   "execution_count": 10,
   "metadata": {},
   "outputs": [
    {
     "name": "stdout",
     "output_type": "stream",
     "text": [
      "Exp. val. = 0.4763788362709295\n"
     ]
    }
   ],
   "source": [
    "estimator = EstimatorV2()\n",
    "\n",
    "est_job = estimator.run([(state, observables, params)])\n",
    "est_result = est_job.result()[0].data.evs.item()\n",
    "\n",
    "print(f'Exp. val. = {est_result}')"
   ]
  },
  {
   "cell_type": "code",
   "execution_count": 11,
   "metadata": {},
   "outputs": [
    {
     "name": "stdout",
     "output_type": "stream",
     "text": [
      "<IZZ> * [1.] = 0.3703882734749126\n",
      "<XZI> * [-1.7] = -0.2989214994556533\n",
      "<IXX> * [1.02] = 0.5558194007571846\n",
      "<YII> * [-0.3] = 0.0\n",
      "<IIZ> * [0.5] = -0.15090733850551452\n"
     ]
    }
   ],
   "source": [
    "for obs in observables:\n",
    "    pauli_job = estimator.run([(state, obs, params)])\n",
    "    pauli_result = pauli_job.result()[0].data.evs.item()\n",
    "    print(f'<{obs.paulis[0]}> * {str(obs.coeffs.real)} = {pauli_result}')"
   ]
  }
 ],
 "metadata": {
  "kernelspec": {
   "display_name": "cqtr",
   "language": "python",
   "name": "python3"
  },
  "language_info": {
   "codemirror_mode": {
    "name": "ipython",
    "version": 3
   },
   "file_extension": ".py",
   "mimetype": "text/x-python",
   "name": "python",
   "nbconvert_exporter": "python",
   "pygments_lexer": "ipython3",
   "version": "3.12.7"
  }
 },
 "nbformat": 4,
 "nbformat_minor": 2
}
