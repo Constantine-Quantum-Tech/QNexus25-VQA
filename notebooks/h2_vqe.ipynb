{
 "cells": [
  {
   "cell_type": "markdown",
   "metadata": {},
   "source": [
    "# A Variational Quantum Eigensolver in Qiskit >= 1.0\n",
    "*(Tested with Qiskit 1.2)*"
   ]
  },
  {
   "cell_type": "code",
   "execution_count": 1,
   "metadata": {},
   "outputs": [],
   "source": [
    "# Quantum Chemistry\n",
    "from qiskit_nature.second_q.drivers import PySCFDriver\n",
    "from qiskit_nature.second_q.transformers import ActiveSpaceTransformer\n",
    "from qiskit_nature.units import DistanceUnit as UnitsType\n",
    "\n",
    "# Simulation\n",
    "from qiskit_aer import AerSimulator\n",
    "from qiskit.transpiler.preset_passmanagers import generate_preset_pass_manager\n",
    "from qiskit_ibm_runtime import EstimatorV2\n",
    "from qiskit_ibm_runtime.fake_provider import FakeBelemV2\n",
    "\n",
    "# Ansätze\n",
    "from qiskit.circuit.library import EfficientSU2\n",
    "from qiskit_nature.second_q.circuit.library import UCCSD, HartreeFock\n",
    "\n",
    "# VQE\n",
    "from qiskit_nature.second_q.mappers import JordanWignerMapper\n",
    "from qiskit_algorithms.optimizers import SPSA\n",
    "\n",
    "# Tools\n",
    "from qiskit_algorithms.minimum_eigensolvers import MinimumEigensolverResult\n",
    "import numpy as np\n",
    "import matplotlib.pyplot as plt"
   ]
  },
  {
   "cell_type": "markdown",
   "metadata": {},
   "source": [
    "## Molecule and Hamiltonian"
   ]
  },
  {
   "cell_type": "code",
   "execution_count": 2,
   "metadata": {},
   "outputs": [],
   "source": [
    "# The BeH2 molecule\n",
    "driver = PySCFDriver(\n",
    "\t\t    atom=\"\"\"H 0, 0.0, 0.0\n",
    "                    H  0.74, 0.0, 0.0\n",
    "            \"\"\",\n",
    "\t\t    basis='sto3g',\n",
    "\t\t    charge=0,\n",
    "\t\t    spin=0,\n",
    "\t\t    unit=UnitsType.ANGSTROM)"
   ]
  },
  {
   "cell_type": "code",
   "execution_count": 3,
   "metadata": {},
   "outputs": [],
   "source": [
    "# Generating the Electronic Structure Problem\n",
    "molecule_problem = driver.run()"
   ]
  },
  {
   "cell_type": "code",
   "execution_count": 4,
   "metadata": {},
   "outputs": [
    {
     "data": {
      "text/plain": [
       "-1.1167593073964257"
      ]
     },
     "execution_count": 4,
     "metadata": {},
     "output_type": "execute_result"
    }
   ],
   "source": [
    "# The Hartree-Fock energy\n",
    "molecule_problem.reference_energy"
   ]
  },
  {
   "cell_type": "markdown",
   "metadata": {},
   "source": [
    "### Active Space Transformation"
   ]
  },
  {
   "cell_type": "code",
   "execution_count": 5,
   "metadata": {},
   "outputs": [],
   "source": [
    "# Reducing the problem to the active space containing the 2 electrons in the 2 spatial orbitals\n",
    "active_space_transformer = ActiveSpaceTransformer(num_electrons=2, num_spatial_orbitals=2)\n",
    "reduced_molecule_problem = active_space_transformer.transform(molecule_problem)"
   ]
  },
  {
   "cell_type": "markdown",
   "metadata": {},
   "source": [
    "### Mapping: Parity with 2-qubit tappering"
   ]
  },
  {
   "cell_type": "code",
   "execution_count": 6,
   "metadata": {},
   "outputs": [],
   "source": [
    "# Obtaining the second quantized Hamiltonian\n",
    "second_q_hamiltonian = reduced_molecule_problem.second_q_ops()[0]"
   ]
  },
  {
   "cell_type": "code",
   "execution_count": 7,
   "metadata": {},
   "outputs": [
    {
     "name": "stdout",
     "output_type": "stream",
     "text": [
      "SparsePauliOp(['IIII', 'IIIZ', 'IIZI', 'IZII', 'ZIII', 'IIZZ', 'IZIZ', 'ZIIZ', 'YYYY', 'XXYY', 'YYXX', 'XXXX', 'IZZI', 'ZIZI', 'ZZII'],\n",
      "              coeffs=[-0.81217061+0.j,  0.17141283+0.j, -0.22343154+0.j,  0.17141283+0.j,\n",
      " -0.22343154+0.j,  0.12062523+0.j,  0.16868898+0.j,  0.16592785+0.j,\n",
      "  0.04530262+0.j,  0.04530262+0.j,  0.04530262+0.j,  0.04530262+0.j,\n",
      "  0.16592785+0.j,  0.17441288+0.j,  0.12062523+0.j])\n"
     ]
    }
   ],
   "source": [
    "\n",
    "jordanwigner_mapper = JordanWignerMapper()\n",
    "# Applying the Parity Mapping\n",
    "qubit_op = jordanwigner_mapper.map(second_q_hamiltonian)\n",
    "print(qubit_op)"
   ]
  },
  {
   "cell_type": "markdown",
   "metadata": {},
   "source": [
    "### Target energy: exact diagnolization\n",
    "This is not necessary for the VQE, but it is good to have a wel defined target energy value for testing."
   ]
  },
  {
   "cell_type": "code",
   "execution_count": 8,
   "metadata": {},
   "outputs": [
    {
     "name": "stdout",
     "output_type": "stream",
     "text": [
      "exact_min_eigenvalue = -1.8523881735695837\n"
     ]
    }
   ],
   "source": [
    "# Exact diagonalization of the mapped Hamiltonian's matrix\n",
    "exact_min_eigenvalue = np.linalg.eigvalsh(qubit_op.to_matrix())[0]\n",
    "print(f'{exact_min_eigenvalue = }')"
   ]
  },
  {
   "cell_type": "code",
   "execution_count": 9,
   "metadata": {},
   "outputs": [
    {
     "name": "stdout",
     "output_type": "stream",
     "text": [
      "exact_ground_energy = -1.1372838344885026\n"
     ]
    }
   ],
   "source": [
    "# Getting the exact ground energy by interpreting the result in the context of the reduced molecule problem\n",
    "def interpret_exp_val(exp_val, problem):\n",
    "    # Wrapping the expectation value in MinimumEigensolverResult\n",
    "    sol = MinimumEigensolverResult()\n",
    "    sol.eigenvalue = np.real(exp_val)\n",
    "    # Interpreting the result\n",
    "    return  problem.interpret(sol).total_energies[0]\n",
    "\n",
    "exact_ground_energy = interpret_exp_val(exact_min_eigenvalue, reduced_molecule_problem)\n",
    "print(f'{exact_ground_energy = }')"
   ]
  },
  {
   "cell_type": "markdown",
   "metadata": {},
   "source": [
    "## VQE"
   ]
  },
  {
   "cell_type": "markdown",
   "metadata": {},
   "source": [
    "### The Ansatz"
   ]
  },
  {
   "cell_type": "markdown",
   "metadata": {},
   "source": [
    "**Efficient SU2**"
   ]
  },
  {
   "cell_type": "code",
   "execution_count": 10,
   "metadata": {},
   "outputs": [
    {
     "data": {
      "image/png": "[encoded data removed]",
      "text/plain": [
       "<Figure size 705.552x367.889 with 1 Axes>"
      ]
     },
     "execution_count": 10,
     "metadata": {},
     "output_type": "execute_result"
    }
   ],
   "source": [
    "ansatz = EfficientSU2(num_qubits=qubit_op.num_qubits, entanglement='linear', reps=1)\n",
    "ansatz.decompose().draw('mpl')"
   ]
  },
  {
   "cell_type": "markdown",
   "metadata": {},
   "source": [
    "### The Cost Function"
   ]
  },
  {
   "cell_type": "markdown",
   "metadata": {},
   "source": [
    "**Backend and Ansatz transpliation**"
   ]
  },
  {
   "cell_type": "markdown",
   "metadata": {},
   "source": [
    "In order to run the ansatz' quantum circuit on a quantum computer, we must re-express it in terms of quantum gates that are natively supported by the target quantum computer. That is, decomposing the initial logical quantum gates into native physical quantum gates, as well as respecting the physical qubits' conectivity which may require reassigning qubits and re-routing two-qubit gates. This process of converting a logical circuit into a physical one is called transpilation or compilation."
   ]
  },
  {
   "cell_type": "markdown",
   "metadata": {},
   "source": [
    "First we define the target quantum backend, which may be a real quantum hardware or a simulator. In this case, we use Qiskit Aer's AerSimulator. Then we prepare a pass manager that will perform the transpilation. We set the target backend to the simulator and specify that we require no optimization in our specific case. The transpiled quantum circuit is the Instruction Set Architecture (ISA) circuit. Finally, the qubit layout of the transpiled ansatz is applied to the Hamiltonian observable, aligning the qubits of the observable with those of the ansatz. This is important as we must measure the correct observables on the correct qubits."
   ]
  },
  {
   "cell_type": "code",
   "execution_count": 11,
   "metadata": {},
   "outputs": [],
   "source": [
    "# Creating a backend\n",
    "# In this case, it is an SVS simulator\n",
    "backend = AerSimulator()\n",
    "\n",
    "# Creating the pass manager that transpiles the ansatz\n",
    "pm = generate_preset_pass_manager(backend=backend, optimization_level=3)\n",
    "\n",
    "# Transpiling the ansatz\n",
    "# ISA stands for \"Instruction Set Architecture\"\n",
    "isa_ansatz = pm.run(ansatz)\n",
    "\n",
    "# Applying the layout of the ISA ansatz to the Hamiltonian observable\n",
    "# This ensures that the observables qubits are the same as the ansatz qubits\n",
    "isa_observables = qubit_op.apply_layout(isa_ansatz.layout)"
   ]
  },
  {
   "cell_type": "code",
   "execution_count": 12,
   "metadata": {},
   "outputs": [
    {
     "data": {
      "text/plain": [
       "0.5343151029092633"
      ]
     },
     "execution_count": 12,
     "metadata": {},
     "output_type": "execute_result"
    }
   ],
   "source": [
    "# Using the Estimator primitive with the previously defined backend\n",
    "estimator = EstimatorV2(mode=backend)\n",
    "\n",
    "# Defining the energy cost function\n",
    "def energy_cost_function(params):\n",
    "    # Run the job and get the eigenvalue result\n",
    "    estimator_job = estimator.run(\n",
    "        [\n",
    "        (isa_ansatz, isa_observables, params)\n",
    "        ]\n",
    "        )\n",
    "    estimator_exp_val = estimator_job.result()[0].data.evs\n",
    "    # Return the interpreted energy value\n",
    "    return interpret_exp_val(estimator_exp_val, reduced_molecule_problem)\n",
    "\n",
    "energy_cost_function(np.random.rand(ansatz.num_parameters))"
   ]
  },
  {
   "cell_type": "markdown",
   "metadata": {},
   "source": [
    "**Callback function for the optimizer**"
   ]
  },
  {
   "cell_type": "code",
   "execution_count": 13,
   "metadata": {},
   "outputs": [],
   "source": [
    "# Results list to store the energy values\n",
    "results = []\n",
    "\n",
    "# The callback function runs after each iteration\n",
    "def optimizer_callback(ne, params, value, step, accepted):\n",
    "    global results\n",
    "    results.append(value)\n",
    "    # Printing intermediate results\n",
    "    print(f'Iteration {len(results):03d}  -  Energy = {value}')"
   ]
  },
  {
   "cell_type": "markdown",
   "metadata": {},
   "source": [
    "**Defining the optimizer: SPSA**"
   ]
  },
  {
   "cell_type": "code",
   "execution_count": 14,
   "metadata": {},
   "outputs": [],
   "source": [
    "# Defining the SPSA optimizer\n",
    "optimizer = SPSA(maxiter=150, callback=optimizer_callback)"
   ]
  },
  {
   "cell_type": "markdown",
   "metadata": {},
   "source": [
    "**Calibration phase**"
   ]
  },
  {
   "cell_type": "code",
   "execution_count": 15,
   "metadata": {},
   "outputs": [
    {
     "name": "stdout",
     "output_type": "stream",
     "text": [
      "    CALIBRATING SPSA...\n",
      "    CALIBRATED.\n"
     ]
    }
   ],
   "source": [
    "print('    CALIBRATING SPSA...')\n",
    "\n",
    "# Defining random initial parameters\n",
    "initial_params = np.random.rand(ansatz.num_parameters)\n",
    "\n",
    "# Calibrating the SPSA optimizer\n",
    "learning, pert = optimizer.calibrate(energy_cost_function, initial_params)\n",
    "\n",
    "# Setting the calibrated learning rate and perturbation series\n",
    "optimizer.learning_rate = learning\n",
    "optimizer.perturbation = pert\n",
    "\n",
    "print('    CALIBRATED.')"
   ]
  },
  {
   "cell_type": "markdown",
   "metadata": {},
   "source": [
    "**The VQE**"
   ]
  },
  {
   "cell_type": "code",
   "execution_count": 16,
   "metadata": {},
   "outputs": [
    {
     "name": "stdout",
     "output_type": "stream",
     "text": [
      "    START VQE...\n",
      "Iteration 001  -  Energy = 0.49317484066198825\n",
      "Iteration 002  -  Energy = 0.48889018097096026\n",
      "Iteration 003  -  Energy = 0.22393498112291782\n",
      "Iteration 004  -  Energy = 0.11501257089497585\n",
      "Iteration 005  -  Energy = -0.12212245193263771\n",
      "Iteration 006  -  Energy = -0.11622308623188182\n",
      "Iteration 007  -  Energy = -0.13848712469855806\n",
      "Iteration 008  -  Energy = -0.1386700244134682\n",
      "Iteration 009  -  Energy = -0.22659204716352943\n",
      "Iteration 010  -  Energy = -0.28181712081022314\n",
      "Iteration 011  -  Energy = -0.26390944820480877\n",
      "Iteration 012  -  Energy = -0.28426675231510434\n",
      "Iteration 013  -  Energy = -0.3901434993077333\n",
      "Iteration 014  -  Energy = -0.4449287002892546\n",
      "Iteration 015  -  Energy = -0.4195422178171577\n",
      "Iteration 016  -  Energy = -0.4266602419318317\n",
      "Iteration 017  -  Energy = -0.43762402601435246\n",
      "Iteration 018  -  Energy = -0.43474651323337055\n",
      "Iteration 019  -  Energy = -0.5861419679764119\n",
      "Iteration 020  -  Energy = -0.6563208798552498\n",
      "Iteration 021  -  Energy = -0.7043682962474438\n",
      "Iteration 022  -  Energy = -0.7289915557796738\n",
      "Iteration 023  -  Energy = -0.7824936476603968\n",
      "Iteration 024  -  Energy = -0.8063671480356815\n",
      "Iteration 025  -  Energy = -0.812029285923527\n",
      "Iteration 026  -  Energy = -0.8666071644184841\n",
      "Iteration 027  -  Energy = -0.8817032799211069\n",
      "Iteration 028  -  Energy = -0.8869683903075332\n",
      "Iteration 029  -  Energy = -0.8796380295688342\n",
      "Iteration 030  -  Energy = -0.9155137310465444\n",
      "Iteration 031  -  Energy = -0.9217395520486755\n",
      "Iteration 032  -  Energy = -0.9357534314348015\n",
      "Iteration 033  -  Energy = -0.99367344570034\n",
      "Iteration 034  -  Energy = -0.998220342293793\n",
      "Iteration 035  -  Energy = -1.0055795033537736\n",
      "Iteration 036  -  Energy = -1.0075353988401134\n",
      "Iteration 037  -  Energy = -1.0172403462353778\n",
      "Iteration 038  -  Energy = -1.0325566186316562\n",
      "Iteration 039  -  Energy = -1.03539749767694\n",
      "Iteration 040  -  Energy = -1.030908636390495\n",
      "Iteration 041  -  Energy = -1.0553438338864796\n",
      "Iteration 042  -  Energy = -1.0583633179498706\n",
      "Iteration 043  -  Energy = -1.06158707975945\n",
      "Iteration 044  -  Energy = -1.060295005080957\n",
      "Iteration 045  -  Energy = -1.067835097577374\n",
      "Iteration 046  -  Energy = -1.0613324541290674\n",
      "Iteration 047  -  Energy = -1.0654676369479505\n",
      "Iteration 048  -  Energy = -1.0707614841010946\n",
      "Iteration 049  -  Energy = -1.0638921100138659\n",
      "Iteration 050  -  Energy = -1.06512044193335\n",
      "Iteration 051  -  Energy = -1.078116757444689\n",
      "Iteration 052  -  Energy = -1.0803863092577264\n",
      "Iteration 053  -  Energy = -1.080412594453097\n",
      "Iteration 054  -  Energy = -1.0893571338408963\n",
      "Iteration 055  -  Energy = -1.0843443669806292\n",
      "Iteration 056  -  Energy = -1.087025770676536\n",
      "Iteration 057  -  Energy = -1.0941307736717578\n",
      "Iteration 058  -  Energy = -1.093340332103934\n",
      "Iteration 059  -  Energy = -1.0906038759323915\n",
      "Iteration 060  -  Energy = -1.0933727559635225\n",
      "Iteration 061  -  Energy = -1.0925570905240902\n",
      "Iteration 062  -  Energy = -1.0992557594750858\n",
      "Iteration 063  -  Energy = -1.0955667758522323\n",
      "Iteration 064  -  Energy = -1.0987063855267156\n",
      "Iteration 065  -  Energy = -1.1003883360309572\n",
      "Iteration 066  -  Energy = -1.0972139215568826\n",
      "Iteration 067  -  Energy = -1.1034405148286703\n",
      "Iteration 068  -  Energy = -1.1038381685952676\n",
      "Iteration 069  -  Energy = -1.0981331173593563\n",
      "Iteration 070  -  Energy = -1.106737561573669\n",
      "Iteration 071  -  Energy = -1.1065370984455336\n",
      "Iteration 072  -  Energy = -1.1074395428049053\n",
      "Iteration 073  -  Energy = -1.1090258102658033\n",
      "Iteration 074  -  Energy = -1.109543702603058\n",
      "Iteration 075  -  Energy = -1.110299366395264\n",
      "Iteration 076  -  Energy = -1.1118166325226961\n",
      "Iteration 077  -  Energy = -1.1114056528029335\n",
      "Iteration 078  -  Energy = -1.1114987663975209\n",
      "Iteration 079  -  Energy = -1.1095427981136174\n",
      "Iteration 080  -  Energy = -1.1131329539977117\n",
      "Iteration 081  -  Energy = -1.1119444748742402\n",
      "Iteration 082  -  Energy = -1.111663088522192\n",
      "Iteration 083  -  Energy = -1.113988392388103\n",
      "Iteration 084  -  Energy = -1.115082272270033\n",
      "Iteration 085  -  Energy = -1.111336677713973\n",
      "Iteration 086  -  Energy = -1.1122816146891346\n",
      "Iteration 087  -  Energy = -1.1115553793304176\n",
      "Iteration 088  -  Energy = -1.1137707831339352\n",
      "Iteration 089  -  Energy = -1.1119086640973095\n",
      "Iteration 090  -  Energy = -1.113188755428585\n",
      "Iteration 091  -  Energy = -1.1136701325773288\n",
      "Iteration 092  -  Energy = -1.1136010018437303\n",
      "Iteration 093  -  Energy = -1.1132425531131331\n",
      "Iteration 094  -  Energy = -1.118664400573123\n",
      "Iteration 095  -  Energy = -1.1112752754135808\n",
      "Iteration 096  -  Energy = -1.1158126672209903\n",
      "Iteration 097  -  Energy = -1.11345404299749\n",
      "Iteration 098  -  Energy = -1.1140462738155579\n",
      "Iteration 099  -  Energy = -1.1158347396706896\n",
      "Iteration 100  -  Energy = -1.117250133316732\n",
      "Iteration 101  -  Energy = -1.1145865493056206\n",
      "Iteration 102  -  Energy = -1.115301722081568\n",
      "Iteration 103  -  Energy = -1.1141429204245619\n",
      "Iteration 104  -  Energy = -1.1128699016691057\n",
      "Iteration 105  -  Energy = -1.115195532564123\n",
      "Iteration 106  -  Energy = -1.1141537314266383\n",
      "Iteration 107  -  Energy = -1.1156095795138494\n",
      "Iteration 108  -  Energy = -1.1146979489556235\n",
      "Iteration 109  -  Energy = -1.1155645872858782\n",
      "Iteration 110  -  Energy = -1.113182560610361\n",
      "Iteration 111  -  Energy = -1.1152954191858109\n",
      "Iteration 112  -  Energy = -1.115603773633411\n",
      "Iteration 113  -  Energy = -1.1173537905928752\n",
      "Iteration 114  -  Energy = -1.1136836157255172\n",
      "Iteration 115  -  Energy = -1.1137241181347133\n",
      "Iteration 116  -  Energy = -1.1158830799888784\n",
      "Iteration 117  -  Energy = -1.1176899618628537\n",
      "Iteration 118  -  Energy = -1.1175654042945928\n",
      "Iteration 119  -  Energy = -1.1169995508207997\n",
      "Iteration 120  -  Energy = -1.1167210899947302\n",
      "Iteration 121  -  Energy = -1.1163211080004187\n",
      "Iteration 122  -  Energy = -1.1185053823169675\n",
      "Iteration 123  -  Energy = -1.1177626735788955\n",
      "Iteration 124  -  Energy = -1.114859830428156\n",
      "Iteration 125  -  Energy = -1.1161361031369494\n",
      "Iteration 126  -  Energy = -1.1177237047846817\n",
      "Iteration 127  -  Energy = -1.1176096451300457\n",
      "Iteration 128  -  Energy = -1.1160664879304316\n",
      "Iteration 129  -  Energy = -1.114641770728443\n",
      "Iteration 130  -  Energy = -1.113621838427992\n",
      "Iteration 131  -  Energy = -1.114540179107306\n",
      "Iteration 132  -  Energy = -1.1192244356240777\n",
      "Iteration 133  -  Energy = -1.114559045571694\n",
      "Iteration 134  -  Energy = -1.1151218178748696\n",
      "Iteration 135  -  Energy = -1.1134783990564354\n",
      "Iteration 136  -  Energy = -1.113614375516132\n",
      "Iteration 137  -  Energy = -1.112825878386972\n",
      "Iteration 138  -  Energy = -1.1162581101763638\n",
      "Iteration 139  -  Energy = -1.1164407205565463\n",
      "Iteration 140  -  Energy = -1.1177886265597579\n",
      "Iteration 141  -  Energy = -1.1155116630120347\n",
      "Iteration 142  -  Energy = -1.1192630140822524\n",
      "Iteration 143  -  Energy = -1.114516134738558\n",
      "Iteration 144  -  Energy = -1.1162331108024317\n",
      "Iteration 145  -  Energy = -1.1165206762328757\n",
      "Iteration 146  -  Energy = -1.1153586345631845\n",
      "Iteration 147  -  Energy = -1.1161959564834525\n",
      "Iteration 148  -  Energy = -1.1180879719381158\n",
      "Iteration 149  -  Energy = -1.115833019332334\n",
      "Iteration 150  -  Energy = -1.1184964799270052\n",
      "Iteration 151  -  Energy = -1.1158246028135435\n",
      "Iteration 152  -  Energy = -1.1163761737786024\n",
      "Iteration 153  -  Energy = -1.116497116337046\n",
      "Iteration 154  -  Energy = -1.1156048381143815\n",
      "Iteration 155  -  Energy = -1.1175231815470403\n",
      "Iteration 156  -  Energy = -1.1164849613919998\n",
      "Iteration 157  -  Energy = -1.1134205637978327\n",
      "Iteration 158  -  Energy = -1.116549883167076\n",
      "Iteration 159  -  Energy = -1.1173480326804641\n",
      "Iteration 160  -  Energy = -1.1207217411256691\n",
      "Iteration 161  -  Energy = -1.1148023701666852\n",
      "Iteration 162  -  Energy = -1.112789412153577\n",
      "Iteration 163  -  Energy = -1.1164407205565468\n",
      "Iteration 164  -  Energy = -1.1158199093821028\n",
      "Iteration 165  -  Energy = -1.1153657210796588\n",
      "Iteration 166  -  Energy = -1.1183651968987491\n",
      "Iteration 167  -  Energy = -1.115300799304582\n",
      "Iteration 168  -  Energy = -1.1171692548634171\n",
      "Iteration 169  -  Energy = -1.1174243594063227\n",
      "Iteration 170  -  Energy = -1.1164632159714054\n",
      "Iteration 171  -  Energy = -1.1165823440546143\n",
      "Iteration 172  -  Energy = -1.1175453019647668\n",
      "Iteration 173  -  Energy = -1.1173918985187845\n",
      "Iteration 174  -  Energy = -1.117501061129314\n",
      "Iteration 175  -  Energy = -1.1154245113434456\n",
      "Iteration 176  -  Energy = -1.11683744859752\n",
      "Iteration 177  -  Energy = -1.115646199993629\n",
      "Iteration 178  -  Energy = -1.1150047078795615\n",
      "Iteration 179  -  Energy = -1.1146504061988058\n",
      "Iteration 180  -  Energy = -1.118208914496561\n",
      "Iteration 181  -  Energy = -1.118828286192902\n",
      "Iteration 182  -  Energy = -1.1130002758610296\n",
      "Iteration 183  -  Energy = -1.1149572130907706\n",
      "Iteration 184  -  Energy = -1.1152993598264795\n",
      "Iteration 185  -  Energy = -1.1177222653065788\n",
      "Iteration 186  -  Energy = -1.1159878622564192\n",
      "Iteration 187  -  Energy = -1.115424995816364\n",
      "Iteration 188  -  Energy = -1.1168816894329727\n",
      "Iteration 189  -  Energy = -1.1193252758526961\n",
      "Iteration 190  -  Energy = -1.1174007995104938\n",
      "Iteration 191  -  Energy = -1.1184846999790907\n",
      "Iteration 192  -  Energy = -1.1157196477632825\n",
      "Iteration 193  -  Energy = -1.1168699094850587\n",
      "Iteration 194  -  Energy = -1.1154659826984792\n",
      "Iteration 195  -  Energy = -1.115112056014856\n",
      "Iteration 196  -  Energy = -1.1169583911559644\n",
      "Iteration 197  -  Energy = -1.1169716105819816\n",
      "Iteration 198  -  Energy = -1.1174229199282202\n",
      "Iteration 199  -  Energy = -1.118705904156355\n",
      "Iteration 200  -  Energy = -1.1165602236368883\n",
      "Iteration 201  -  Energy = -1.1135347948369356\n",
      "Iteration 202  -  Energy = -1.1174581502961773\n",
      "Iteration 203  -  Energy = -1.1181881240811506\n",
      "Iteration 204  -  Energy = -1.1167724173466573\n",
      "Iteration 205  -  Energy = -1.1186747732711328\n",
      "Iteration 206  -  Energy = -1.1167060560934776\n",
      "Iteration 207  -  Energy = -1.1152551189910267\n",
      "Iteration 208  -  Energy = -1.1156668809332528\n",
      "Iteration 209  -  Energy = -1.1172595510095582\n",
      "Iteration 210  -  Energy = -1.1174125794584082\n",
      "Iteration 211  -  Energy = -1.1151223964846682\n",
      "Iteration 212  -  Energy = -1.1179110085963047\n",
      "Iteration 213  -  Energy = -1.1174450403459466\n",
      "Iteration 214  -  Energy = -1.1144926843185146\n",
      "Iteration 215  -  Energy = -1.1165381032191615\n",
      "Iteration 216  -  Energy = -1.1174139094607245\n",
      "Iteration 217  -  Energy = -1.1176506320121609\n",
      "Iteration 218  -  Energy = -1.117998050789108\n",
      "Iteration 219  -  Energy = -1.1162947786241708\n",
      "Iteration 220  -  Energy = -1.1166044644723412\n",
      "Iteration 221  -  Energy = -1.1157860090164617\n",
      "Iteration 222  -  Energy = -1.1149143022576342\n",
      "Iteration 223  -  Energy = -1.1181204328256549\n",
      "Iteration 224  -  Energy = -1.1176662445232113\n",
      "Iteration 225  -  Energy = -1.1157774830218852\n",
      "Iteration 226  -  Energy = -1.1169624906387\n",
      "Iteration 227  -  Energy = -1.1176355981109083\n",
      "Iteration 228  -  Energy = -1.117223836168682\n",
      "Iteration 229  -  Energy = -1.1172590665366395\n",
      "Iteration 230  -  Energy = -1.1160735744469057\n",
      "Iteration 231  -  Energy = -1.1197234433717727\n",
      "Iteration 232  -  Energy = -1.1145608600469297\n",
      "Iteration 233  -  Energy = -1.1152551189910267\n",
      "Iteration 234  -  Energy = -1.1182413753840992\n",
      "Iteration 235  -  Energy = -1.1161328491836109\n",
      "Iteration 236  -  Energy = -1.1157224172437012\n",
      "Iteration 237  -  Energy = -1.1164938623837086\n",
      "Iteration 238  -  Energy = -1.1168699094850587\n",
      "Iteration 239  -  Energy = -1.115459271179138\n",
      "Iteration 240  -  Energy = -1.1162726582064444\n",
      "Iteration 241  -  Energy = -1.1199135166638148\n",
      "Iteration 242  -  Energy = -1.114427653067652\n",
      "Iteration 243  -  Energy = -1.1151445169023946\n",
      "Iteration 244  -  Energy = -1.1168477890673323\n",
      "Iteration 245  -  Energy = -1.1166044644723407\n",
      "Iteration 246  -  Energy = -1.1154335218109408\n",
      "Iteration 247  -  Energy = -1.1140606164337976\n",
      "Iteration 248  -  Energy = -1.11636113987735\n",
      "Iteration 249  -  Energy = -1.1175777628523056\n",
      "Iteration 250  -  Energy = -1.117612993220263\n",
      "    VQE FINISHED.\n"
     ]
    }
   ],
   "source": [
    "print('    START VQE...')\n",
    "# Running the VQE algorithm\n",
    "# It is the SPSA algorithm that uses a quantum cost function\n",
    "result = optimizer.minimize(energy_cost_function, initial_params)\n",
    "print('    VQE FINISHED.')"
   ]
  },
  {
   "cell_type": "code",
   "execution_count": 17,
   "metadata": {},
   "outputs": [],
   "source": [
    "# Storing the final energy and parameters\n",
    "energy_result, parameters_result = result.fun, result.x"
   ]
  },
  {
   "cell_type": "code",
   "execution_count": 18,
   "metadata": {},
   "outputs": [
    {
     "data": {
      "image/png": "[encoded data removed]",
      "text/plain": [
       "<Figure size 640x480 with 1 Axes>"
      ]
     },
     "metadata": {},
     "output_type": "display_data"
    }
   ],
   "source": [
    "# plotting the energy convergence\n",
    "plt.plot(range(1, len(results) + 1), results)\n",
    "plt.xlabel('Iterations')\n",
    "plt.ylabel('Energy')\n",
    "\n",
    "plt.grid()\n",
    "plt.show()"
   ]
  },
  {
   "cell_type": "markdown",
   "metadata": {},
   "source": [
    "___"
   ]
  }
 ],
 "metadata": {
  "kernelspec": {
   "display_name": "cqtr",
   "language": "python",
   "name": "python3"
  },
  "language_info": {
   "codemirror_mode": {
    "name": "ipython",
    "version": 3
   },
   "file_extension": ".py",
   "mimetype": "text/x-python",
   "name": "python",
   "nbconvert_exporter": "python",
   "pygments_lexer": "ipython3",
   "version": "3.12.7"
  }
 },
 "nbformat": 4,
 "nbformat_minor": 2
}
